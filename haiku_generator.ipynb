{
  "cells": [
    {
      "cell_type": "markdown",
      "metadata": {
        "id": "view-in-github",
        "colab_type": "text"
      },
      "source": [
        "<a href=\"https://colab.research.google.com/github/MRathmair/Haiku/blob/main/haiku_generator.ipynb\" target=\"_parent\"><img src=\"https://colab.research.google.com/assets/colab-badge.svg\" alt=\"Open In Colab\"/></a>"
      ]
    },
    {
      "cell_type": "markdown",
      "metadata": {
        "id": "6FV4p9jmyfVo"
      },
      "source": [
        "# Fetch data"
      ]
    },
    {
      "cell_type": "code",
      "execution_count": 1,
      "metadata": {
        "colab": {
          "base_uri": "https://localhost:8080/"
        },
        "id": "VS1gZcY6yiWx",
        "outputId": "dccd2141-23c8-4e25-c398-089450545d66"
      },
      "outputs": [
        {
          "output_type": "stream",
          "name": "stdout",
          "text": [
            "lines.txt already exists. Skipping download.\n"
          ]
        }
      ],
      "source": [
        "import os\n",
        "\n",
        "filename = \"lines.txt\"\n",
        "url = \"https://raw.githubusercontent.com/MRathmair/Haiku/refs/heads/main/lines.txt\"\n",
        "\n",
        "if not os.path.exists(filename):\n",
        "    print(f\"Downloading {filename}...\")\n",
        "    !wget {url}\n",
        "else:\n",
        "    print(f\"{filename} already exists. Skipping download.\")"
      ]
    },
    {
      "cell_type": "code",
      "execution_count": 2,
      "metadata": {
        "id": "Zy_5jDhczn-6"
      },
      "outputs": [],
      "source": [
        "with open(\"lines.txt\", \"r\") as file:\n",
        "    lines = file.readlines()          # reads the .txt line by line -> list of strings\n",
        "\n",
        "for k in range(len(lines)):\n",
        "  lines[k] = lines[k].replace(\"$\",\"\").replace(\"/\", \"<LINE1>\",1).replace(\"/\",\"<LINE2>\",1)"
      ]
    },
    {
      "cell_type": "code",
      "execution_count": 3,
      "metadata": {
        "colab": {
          "base_uri": "https://localhost:8080/"
        },
        "id": "b-ZeR5g9zrhr",
        "outputId": "4a210dee-0252-478c-8fa7-e44627b65b22"
      },
      "outputs": [
        {
          "output_type": "stream",
          "name": "stdout",
          "text": [
            "plants are phoenixes <LINE1> burst bloom blaze bend break burn be <LINE2> so feeds its next self \n",
            "\n",
            "strike click boom <LINE1> roadblock lead to buildups <LINE2> build ups lead to explosive force \n",
            "\n",
            "prance delightfully <LINE1> then give me aids mightily <LINE2> male ballerinas \n",
            "\n",
            "could have would have all <LINE1> but no desire to persist <LINE2> outcome is nothing \n",
            "\n",
            "whisper quietly <LINE1>  or they may hear the secret <LINE2>  meant only for me \n",
            "\n"
          ]
        }
      ],
      "source": [
        "import random\n",
        "\n",
        "for _ in range(5):\n",
        "  print(random.choice(lines))"
      ]
    },
    {
      "cell_type": "markdown",
      "metadata": {
        "id": "slQft5Jtyjne"
      },
      "source": [
        "# Preprocess data"
      ]
    },
    {
      "cell_type": "markdown",
      "metadata": {
        "id": "IWMbvcH60qUi"
      },
      "source": [
        "## Tokenize"
      ]
    },
    {
      "cell_type": "code",
      "execution_count": 4,
      "metadata": {
        "id": "9G4Ih1171RkM"
      },
      "outputs": [],
      "source": [
        "# lines -> lines_upd.txt for tokenizer trainer\n",
        "with open(\"lines_upd.txt\", \"w\") as file:\n",
        "    for line in lines:\n",
        "        file.write(line)"
      ]
    },
    {
      "cell_type": "code",
      "execution_count": 5,
      "metadata": {
        "id": "MlNlu98Hymgg"
      },
      "outputs": [],
      "source": [
        "import sentencepiece as spm\n",
        "\n",
        "# Trains tokenizer\n",
        "spm.SentencePieceTrainer.train(\n",
        "    input='lines_upd.txt',\n",
        "    model_prefix='bpe',\n",
        "    vocab_size=2000,\n",
        "    model_type='bpe',\n",
        "    user_defined_symbols = [\"<s>\", \"</s>\", \"<pad>\", \"<LINE1>\", \"<LINE2>\"]\n",
        ")\n",
        "\n",
        "# Load the trained SentencePiece model\n",
        "sp = spm.SentencePieceProcessor(model_file='bpe.model')"
      ]
    },
    {
      "cell_type": "code",
      "execution_count": 6,
      "metadata": {
        "colab": {
          "base_uri": "https://localhost:8080/"
        },
        "id": "MgfgZWB91vk5",
        "outputId": "88acf6fb-1c05-40be-d57f-d282fb1fe76c"
      },
      "outputs": [
        {
          "output_type": "stream",
          "name": "stdout",
          "text": [
            "orange auburn red <LINE1> piled like snow on curbs cars <LINE2> damp autumn blanket \n",
            "\n",
            "['▁orange', '▁a', 'ub', 'urn', '▁red', '▁', '<LINE1>', '▁p', 'iled', '▁like', '▁snow', '▁on', '▁cur', 'b', 's', '▁c', 'ars', '▁', '<LINE2>', '▁dam', 'p', '▁autumn', '▁blank', 'et']\n",
            "[1812, 9, 944, 300, 411, 1972, 4, 30, 1952, 163, 435, 64, 769, 1992, 1978, 21, 192, 1972, 5, 915, 1991, 737, 1133, 51]\n"
          ]
        }
      ],
      "source": [
        "input = random.choice(lines)\n",
        "print(input)\n",
        "print(sp.encode(input, out_type=str))\n",
        "print(sp.encode(input))"
      ]
    },
    {
      "cell_type": "markdown",
      "metadata": {
        "id": "gFTBXqqn2663"
      },
      "source": [
        "## Dataloader for training and testing"
      ]
    },
    {
      "cell_type": "code",
      "execution_count": 7,
      "metadata": {
        "colab": {
          "base_uri": "https://localhost:8080/"
        },
        "id": "amQeR2KY23QQ",
        "outputId": "600e1b35-21c5-400e-a3d6-9a9125f8df86"
      },
      "outputs": [
        {
          "output_type": "stream",
          "name": "stdout",
          "text": [
            "[1, 9, 429, 504, 790, 1974, 1983, 182, 1972, 4, 100, 9, 469, 1985, 220, 376, 45, 1972, 5, 9, 30, 1047, 422, 53, 693, 2]\n"
          ]
        }
      ],
      "source": [
        "#transform lines to a list of integer sequences\n",
        "haikus_encoded = []\n",
        "for line in lines:\n",
        "  to_append = [sp.piece_to_id(\"<s>\")] + sp.encode(line) + [sp.piece_to_id(\"</s>\")]\n",
        "  haikus_encoded.append(to_append)\n",
        "\n",
        "print(random.choice(haikus_encoded))"
      ]
    },
    {
      "cell_type": "code",
      "execution_count": 8,
      "metadata": {
        "colab": {
          "base_uri": "https://localhost:8080/"
        },
        "id": "ipRJakxu4enZ",
        "outputId": "8c2421aa-f4ac-4448-ca97-3c059680edaf"
      },
      "outputs": [
        {
          "output_type": "stream",
          "name": "stdout",
          "text": [
            "11269 9016 2253\n"
          ]
        }
      ],
      "source": [
        "import torch\n",
        "from torch.utils.data import Dataset, DataLoader, random_split\n",
        "from torch.nn.utils.rnn import pad_sequence\n",
        "\n",
        "class MyDataset(Dataset):\n",
        "    def __init__(self, seqlist):\n",
        "        self.data = seqlist\n",
        "\n",
        "    def __len__(self):\n",
        "        return len(self.data)\n",
        "\n",
        "    def __getitem__(self, idx):\n",
        "        return torch.tensor(self.data[idx], dtype=torch.long)\n",
        "\n",
        "def collate_fn(batch):\n",
        "    return pad_sequence(batch, batch_first=True, padding_value=sp.piece_to_id(\"<pad>\"))\n",
        "\n",
        "dataset = MyDataset(haikus_encoded)\n",
        "train_dataset, test_dataset = random_split(dataset, [0.8, 0.2])\n",
        "\n",
        "print(len(dataset), len(train_dataset), len(test_dataset))"
      ]
    },
    {
      "cell_type": "code",
      "execution_count": 9,
      "metadata": {
        "id": "EfLzUbXd9vgX"
      },
      "outputs": [],
      "source": [
        "train_dataloader = DataLoader(train_dataset, batch_size=32, shuffle=True, collate_fn=collate_fn)\n",
        "test_dataloader = DataLoader(test_dataset, batch_size=32, shuffle=False, collate_fn=collate_fn)"
      ]
    },
    {
      "cell_type": "markdown",
      "metadata": {
        "id": "lB0heJAEy4wz"
      },
      "source": [
        "# Model building"
      ]
    },
    {
      "cell_type": "code",
      "source": [
        "device = torch.device(\"cuda\" if torch.cuda.is_available() else \"cpu\")\n",
        "print(device)"
      ],
      "metadata": {
        "colab": {
          "base_uri": "https://localhost:8080/"
        },
        "id": "7TzBt7-JoImK",
        "outputId": "18a4e481-7a66-4a4f-ad0c-a1bb8db6edbe"
      },
      "execution_count": 10,
      "outputs": [
        {
          "output_type": "stream",
          "name": "stdout",
          "text": [
            "cuda\n"
          ]
        }
      ]
    },
    {
      "cell_type": "code",
      "execution_count": 11,
      "metadata": {
        "colab": {
          "base_uri": "https://localhost:8080/"
        },
        "id": "vM-Y_QQFCEBF",
        "outputId": "56457e7a-e745-4060-be5f-66aedd7c6cbf"
      },
      "outputs": [
        {
          "output_type": "stream",
          "name": "stdout",
          "text": [
            "MAX_LEN =  42\n",
            "VOCAB_SIZE =  2000\n"
          ]
        }
      ],
      "source": [
        "MAX_LEN = max([len(seq) for seq in haikus_encoded])\n",
        "print(\"MAX_LEN = \", MAX_LEN)\n",
        "\n",
        "D_MODEL = 256\n",
        "D_HEAD = 64\n",
        "NUM_HEADS = D_MODEL//D_HEAD\n",
        "D_FF = 2*D_MODEL\n",
        "\n",
        "NUM_BLOCKS = 4\n",
        "\n",
        "VOCAB_SIZE = sp.get_piece_size()\n",
        "print(\"VOCAB_SIZE = \", VOCAB_SIZE)"
      ]
    },
    {
      "cell_type": "code",
      "execution_count": 12,
      "metadata": {
        "id": "0E1JUA7Ly63H"
      },
      "outputs": [],
      "source": [
        "import torch.nn as nn\n",
        "\n",
        "def PEMatrix(d_model, max_len):\n",
        "  pe = torch.zeros(max_len, d_model)\n",
        "  pos = torch.arange(0,max_len)\n",
        "  exp = -torch.arange(0,d_model,2)/d_model\n",
        "\n",
        "  pe[:, 0::2] = torch.sin(torch.outer(pos, 10000**exp))\n",
        "  pe[:, 1::2] = torch.cos(torch.outer(pos, 10000**exp))\n",
        "\n",
        "  return pe\n",
        "\n",
        "\n",
        "class PosEmbedding(nn.Module):\n",
        "  def __init__(self, d_model=D_MODEL, vocab_size = VOCAB_SIZE, max_len=MAX_LEN):\n",
        "    super().__init__()\n",
        "    self.embedding = nn.Embedding(vocab_size, d_model)\n",
        "    self.register_buffer(\"pe\", PEMatrix(d_model, max_len))  #-> (max_len, d_model)\n",
        "\n",
        "  def forward(self, x):\n",
        "    # shape of x -> (BATCH, LENGTH, D_MODEL)\n",
        "    L = x.shape[1]\n",
        "    return self.embedding(x) + self.pe[:L,:].unsqueeze(0)"
      ]
    },
    {
      "cell_type": "code",
      "execution_count": 13,
      "metadata": {
        "id": "7OFgNqIKFYsT"
      },
      "outputs": [],
      "source": [
        "def masked_attention(Q,K,V):\n",
        "  #shape of q,k,v = (BATCH, SEQ_LEN, d_q=d_k or d_v, resp.)\n",
        "  d_k = torch.tensor(K.shape[-1])\n",
        "  seq_len = K.shape[1]\n",
        "\n",
        "  mask = (torch.tril(torch.ones(seq_len,seq_len))==0).to(device)\n",
        "\n",
        "  scores = torch.matmul(Q,K.transpose(-2,-1))/torch.sqrt(d_k)  # (BATCH, SEQ_LEN, SEQ_LEN)\n",
        "  scores = scores.masked_fill(mask, float(\"-inf\"))\n",
        "  probabs = torch.softmax(scores, dim=-1)\n",
        "\n",
        "  return torch.matmul(probabs,V)   #output shape -> (BATCH, SEQ_LEN, d_v)\n",
        "\n",
        "class MultiHeadAttention(nn.Module):\n",
        "  def __init__(self, d_model=D_MODEL, n_heads=NUM_HEADS):\n",
        "    super().__init__()\n",
        "    self.d_model = d_model\n",
        "    self.n_heads = n_heads\n",
        "    self.d_head = d_model//n_heads\n",
        "\n",
        "    self.W_Q = nn.ModuleList([nn.Linear(self.d_model, self.d_head, bias = False) for _ in range(self.n_heads)])\n",
        "    self.W_K = nn.ModuleList([nn.Linear(self.d_model, self.d_head, bias = False) for _ in range(self.n_heads)])\n",
        "    self.W_V = nn.ModuleList([nn.Linear(self.d_model, self.d_head, bias = False) for _ in range(self.n_heads)])\n",
        "\n",
        "    self.W_O = nn.Linear(n_heads*self.d_head, d_model)\n",
        "\n",
        "  def forward(self, x):\n",
        "    heads = []\n",
        "    for WQ,WK,WV in zip(self.W_Q, self.W_K, self.W_V):\n",
        "      heads.append(masked_attention(WQ(x), WK(x), WV(x)))\n",
        "\n",
        "    return self.W_O(torch.cat(heads, dim=-1))\n",
        "\n",
        "class DecoderBlock(nn.Module):\n",
        "  def __init__(self, d_model=D_MODEL, n_heads=NUM_HEADS, d_ff = D_FF, dropout=0.2):\n",
        "    super().__init__()\n",
        "\n",
        "    self.attentionblock = MultiHeadAttention(d_model, n_heads)\n",
        "    self.norm1 = nn.LayerNorm(d_model)\n",
        "    self.feedforward = nn.Sequential(\n",
        "        nn.Linear(d_model, d_ff),\n",
        "        nn.ReLU(),\n",
        "        nn.Linear(d_ff, d_model)\n",
        "    )\n",
        "    self.norm2 = nn.LayerNorm(d_model)\n",
        "    self.dropout = nn.Dropout(dropout)\n",
        "\n",
        "  def forward(self, x):\n",
        "    x = self.norm1(x + self.dropout(self.attentionblock(x)))\n",
        "    return self.norm2(x + self.dropout(self.feedforward(x)))"
      ]
    },
    {
      "cell_type": "code",
      "execution_count": 14,
      "metadata": {
        "id": "8CcZG6hmWHyh"
      },
      "outputs": [],
      "source": [
        "class Decoder(nn.Module):\n",
        "  def __init__(self, num_blocks=NUM_BLOCKS, d_model=D_MODEL, n_heads=NUM_HEADS, vocab_size = VOCAB_SIZE, max_len = MAX_LEN, d_ff = D_FF, dropout=0.2):\n",
        "    super().__init__()\n",
        "\n",
        "    self.embedding = PosEmbedding(d_model, vocab_size, max_len)\n",
        "    self.blocks = nn.ModuleList([DecoderBlock(d_model, n_heads, d_ff, dropout) for _ in range(num_blocks)])\n",
        "    self.linear = nn.Linear(d_model, vocab_size)\n",
        "\n",
        "  def forward(self, x):\n",
        "    x = self.embedding(x)\n",
        "    for block in self.blocks:\n",
        "      x = block(x)\n",
        "    return self.linear(x)\n",
        "\n",
        "  def predict_next_token(self, seq_of_tokens, temperature = 0.2):\n",
        "    self.eval()\n",
        "    x = torch.tensor(seq_of_tokens, dtype=torch.long).unsqueeze(0).to(device)\n",
        "    with torch.no_grad():\n",
        "      logits = self(x)[0][-1] / temperature\n",
        "      probabs = torch.softmax(logits, dim=-1)\n",
        "      return torch.multinomial(probabs, 1).item()"
      ]
    },
    {
      "cell_type": "markdown",
      "metadata": {
        "id": "3LlLM1yXAk3G"
      },
      "source": [
        "# Training"
      ]
    },
    {
      "cell_type": "code",
      "execution_count": 15,
      "metadata": {
        "colab": {
          "base_uri": "https://localhost:8080/"
        },
        "id": "oQmvs-jaAmwa",
        "outputId": "f4367075-8709-4e12-b9a3-b504f8bd9a39"
      },
      "outputs": [
        {
          "output_type": "stream",
          "name": "stdout",
          "text": [
            "cuda\n"
          ]
        }
      ],
      "source": [
        "# device agnostic code\n",
        "device = torch.device(\"cuda\" if torch.cuda.is_available() else \"cpu\")\n",
        "print(device)"
      ]
    },
    {
      "cell_type": "code",
      "execution_count": 16,
      "metadata": {
        "id": "CR3_MkS9Pbml"
      },
      "outputs": [],
      "source": [
        "def train_step(model, dataloader, loss_fn, optimizer, device=device):\n",
        "  model.train()\n",
        "  total_loss = 0\n",
        "\n",
        "  for batch in dataloader:\n",
        "    input = batch[:,:-1].to(device)\n",
        "    target = batch[:,1:].to(device)\n",
        "\n",
        "    logits = model(input)\n",
        "    loss = loss_fn(logits.reshape(-1,logits.shape[-1]), target.reshape(-1))\n",
        "    total_loss += loss.item()\n",
        "\n",
        "    optimizer.zero_grad()\n",
        "    loss.backward()\n",
        "    optimizer.step()\n",
        "\n",
        "  return total_loss / len(dataloader.dataset)"
      ]
    },
    {
      "cell_type": "code",
      "execution_count": 17,
      "metadata": {
        "id": "BqxPgitfyS0j"
      },
      "outputs": [],
      "source": [
        "def test_step(model, dataloader, loss_fn, device=device):\n",
        "  model.eval()\n",
        "  loss = 0\n",
        "\n",
        "  with torch.no_grad():\n",
        "    for batch in dataloader:\n",
        "      input = batch[:,:-1].to(device)\n",
        "      target = batch[:,1:].to(device)\n",
        "\n",
        "      logits = model(input)\n",
        "      loss += loss_fn(logits.reshape(-1,logits.shape[-1]), target.reshape(-1))\n",
        "\n",
        "  return loss.item() / len(dataloader.dataset)"
      ]
    },
    {
      "cell_type": "code",
      "execution_count": 18,
      "metadata": {
        "id": "6XBzDesHABLA"
      },
      "outputs": [],
      "source": [
        "from pathlib import Path\n",
        "\n",
        "def save_model(model, filename=\"bestmodel.pth\"):\n",
        "  torch.save(model.state_dict(), filename)"
      ]
    },
    {
      "cell_type": "code",
      "execution_count": 19,
      "metadata": {
        "id": "RxZ5axHW3j2-"
      },
      "outputs": [],
      "source": [
        "import matplotlib.pyplot as plt\n",
        "from torch.optim import Adam\n",
        "import torch.nn as nn\n",
        "\n",
        "def train_and_test(model, epochs = 25, learn_rate = 0.0001):\n",
        "\n",
        "  model = model.to(device)\n",
        "  loss_fn = nn.CrossEntropyLoss()\n",
        "  optimizer = Adam(model.parameters(), lr = learn_rate)\n",
        "\n",
        "  train_loss, test_loss = [], []\n",
        "  for epoch in range(epochs):\n",
        "    train_loss.append(train_step(model, train_dataloader, loss_fn, optimizer))\n",
        "    test_loss.append(test_step(model, test_dataloader, loss_fn))\n",
        "\n",
        "    print(f\"Epoch {epoch+1}/{epochs} | Train Loss: {train_loss[-1]:.6f} | Test Loss: {test_loss[-1]:.6f}\")\n",
        "\n",
        "    if test_loss[-1]<= min(test_loss):\n",
        "      save_model(model)\n",
        "      print(\"-> Model saved!\") # saving the model with the best test performance\n",
        "\n",
        "\n",
        "  plt.plot(train_loss, label=\"Train Loss\")\n",
        "  plt.plot(test_loss, label=\"Test Loss\")\n",
        "  plt.legend()\n",
        "  plt.show()\n",
        "\n",
        "  return {\"train_losses\": train_loss, \"test_losses\": test_loss}\n"
      ]
    },
    {
      "cell_type": "code",
      "execution_count": 20,
      "metadata": {
        "colab": {
          "base_uri": "https://localhost:8080/",
          "height": 1000
        },
        "id": "lR_lpiai5KXq",
        "outputId": "bb77aff5-49c0-4a05-9bfd-4c45abda8da4"
      },
      "outputs": [
        {
          "output_type": "stream",
          "name": "stdout",
          "text": [
            "Epoch 1/30 | Train Loss: 0.142315 | Test Loss: 0.132520\n",
            "-> Model saved!\n",
            "Epoch 2/30 | Train Loss: 0.127344 | Test Loss: 0.126474\n",
            "-> Model saved!\n",
            "Epoch 3/30 | Train Loss: 0.120985 | Test Loss: 0.121025\n",
            "-> Model saved!\n",
            "Epoch 4/30 | Train Loss: 0.116025 | Test Loss: 0.117296\n",
            "-> Model saved!\n",
            "Epoch 5/30 | Train Loss: 0.111931 | Test Loss: 0.114629\n",
            "-> Model saved!\n",
            "Epoch 6/30 | Train Loss: 0.109181 | Test Loss: 0.112291\n",
            "-> Model saved!\n",
            "Epoch 7/30 | Train Loss: 0.106223 | Test Loss: 0.110541\n",
            "-> Model saved!\n",
            "Epoch 8/30 | Train Loss: 0.103469 | Test Loss: 0.109034\n",
            "-> Model saved!\n",
            "Epoch 9/30 | Train Loss: 0.101627 | Test Loss: 0.107791\n",
            "-> Model saved!\n",
            "Epoch 10/30 | Train Loss: 0.099777 | Test Loss: 0.106701\n",
            "-> Model saved!\n",
            "Epoch 11/30 | Train Loss: 0.098197 | Test Loss: 0.105913\n",
            "-> Model saved!\n",
            "Epoch 12/30 | Train Loss: 0.096736 | Test Loss: 0.105712\n",
            "-> Model saved!\n",
            "Epoch 13/30 | Train Loss: 0.095268 | Test Loss: 0.104870\n",
            "-> Model saved!\n",
            "Epoch 14/30 | Train Loss: 0.094396 | Test Loss: 0.104246\n",
            "-> Model saved!\n",
            "Epoch 15/30 | Train Loss: 0.093161 | Test Loss: 0.103804\n",
            "-> Model saved!\n",
            "Epoch 16/30 | Train Loss: 0.091782 | Test Loss: 0.103652\n",
            "-> Model saved!\n",
            "Epoch 17/30 | Train Loss: 0.090648 | Test Loss: 0.103439\n",
            "-> Model saved!\n",
            "Epoch 18/30 | Train Loss: 0.089318 | Test Loss: 0.103169\n",
            "-> Model saved!\n",
            "Epoch 19/30 | Train Loss: 0.088605 | Test Loss: 0.103009\n",
            "-> Model saved!\n",
            "Epoch 20/30 | Train Loss: 0.087126 | Test Loss: 0.103122\n",
            "Epoch 21/30 | Train Loss: 0.086468 | Test Loss: 0.103000\n",
            "-> Model saved!\n",
            "Epoch 22/30 | Train Loss: 0.085183 | Test Loss: 0.102922\n",
            "-> Model saved!\n",
            "Epoch 23/30 | Train Loss: 0.084305 | Test Loss: 0.102842\n",
            "-> Model saved!\n",
            "Epoch 24/30 | Train Loss: 0.083421 | Test Loss: 0.103273\n",
            "Epoch 25/30 | Train Loss: 0.082091 | Test Loss: 0.103072\n",
            "Epoch 26/30 | Train Loss: 0.081317 | Test Loss: 0.103141\n",
            "Epoch 27/30 | Train Loss: 0.080718 | Test Loss: 0.103339\n",
            "Epoch 28/30 | Train Loss: 0.079361 | Test Loss: 0.103657\n",
            "Epoch 29/30 | Train Loss: 0.078846 | Test Loss: 0.104080\n",
            "Epoch 30/30 | Train Loss: 0.077845 | Test Loss: 0.104622\n"
          ]
        },
        {
          "output_type": "display_data",
          "data": {
            "text/plain": [
              "<Figure size 640x480 with 1 Axes>"
            ],
            "image/png": "[encoded data removed]"
          },
          "metadata": {}
        },
        {
          "output_type": "stream",
          "name": "stdout",
          "text": [
            "Training time: 243.67 seconds\n"
          ]
        }
      ],
      "source": [
        "import time\n",
        "model = Decoder()\n",
        "\n",
        "start = time.time()\n",
        "loss_dict = train_and_test(model, epochs=30)\n",
        "end = time.time()\n",
        "print(\"----------------------------------\")\n",
        "print(f\"Training time: {end-start:.2f} seconds\")"
      ]
    },
    {
      "cell_type": "markdown",
      "metadata": {
        "id": "e2YIF7A-IWrp"
      },
      "source": [
        "# Generate new haikus"
      ]
    },
    {
      "cell_type": "code",
      "source": [
        "print(device)"
      ],
      "metadata": {
        "colab": {
          "base_uri": "https://localhost:8080/"
        },
        "id": "QQABYvMtsFwF",
        "outputId": "d9732f30-6943-4e82-a583-72b99167674c"
      },
      "execution_count": 21,
      "outputs": [
        {
          "output_type": "stream",
          "name": "stdout",
          "text": [
            "cuda\n"
          ]
        }
      ]
    },
    {
      "cell_type": "code",
      "execution_count": 22,
      "metadata": {
        "id": "PA0CaOkOIdz1"
      },
      "outputs": [],
      "source": [
        "def generate_haiku(model, sp, device = device):\n",
        "  model.to(device)\n",
        "\n",
        "  last_id = sp.piece_to_id(\"<s>\")\n",
        "  seq = [last_id]\n",
        "\n",
        "  while (last_id != sp.piece_to_id(\"</s>\") and len(seq)< MAX_LEN):\n",
        "    next_id = model.predict_next_token(seq, temperature = 0.5)\n",
        "    seq.append(next_id)\n",
        "    last_id = next_id\n",
        "\n",
        "  return seq"
      ]
    },
    {
      "cell_type": "code",
      "source": [
        "#load model which performed best on test data\n",
        "loaded_model = Decoder().to(device)\n",
        "loaded_model.load_state_dict(torch.load(\"bestmodel.pth\"))"
      ],
      "metadata": {
        "colab": {
          "base_uri": "https://localhost:8080/"
        },
        "id": "4vqwNIFPTMiu",
        "outputId": "678427f9-c042-4c31-868b-3d40a1761a9d"
      },
      "execution_count": 23,
      "outputs": [
        {
          "output_type": "stream",
          "name": "stderr",
          "text": [
            "<ipython-input-23-ed157a6ed9b6>:3: FutureWarning: You are using `torch.load` with `weights_only=False` (the current default value), which uses the default pickle module implicitly. It is possible to construct malicious pickle data which will execute arbitrary code during unpickling (See https://github.com/pytorch/pytorch/blob/main/SECURITY.md#untrusted-models for more details). In a future release, the default value for `weights_only` will be flipped to `True`. This limits the functions that could be executed during unpickling. Arbitrary objects will no longer be allowed to be loaded via this mode unless they are explicitly allowlisted by the user via `torch.serialization.add_safe_globals`. We recommend you start setting `weights_only=True` for any use case where you don't have full control of the loaded file. Please open an issue on GitHub for any issues related to this experimental feature.\n",
            "  loaded_model.load_state_dict(torch.load(\"bestmodel.pth\"))\n"
          ]
        },
        {
          "output_type": "execute_result",
          "data": {
            "text/plain": [
              "<All keys matched successfully>"
            ]
          },
          "metadata": {},
          "execution_count": 23
        }
      ]
    },
    {
      "cell_type": "code",
      "execution_count": 24,
      "metadata": {
        "colab": {
          "base_uri": "https://localhost:8080/"
        },
        "id": "DrfZENf_5PXL",
        "outputId": "f36de6eb-4878-4117-e78e-efca9b9e9b62"
      },
      "outputs": [
        {
          "output_type": "stream",
          "name": "stdout",
          "text": [
            " a man in a park \n",
            " i'm not a constantly \n",
            " i'm not to be\n",
            "--------------------\n",
            " a dreaming of a \n",
            " yet to crioria \n",
            " a new world is it\n",
            "--------------------\n",
            " you're like a lighter \n",
            " don't mean to be a bulls \n",
            " i will be a relief\n",
            "--------------------\n",
            " i miss the sun stuff \n",
            " it's what i'm not a haiku \n",
            " that's a haiku\n",
            "--------------------\n",
            " it's the way i'm not \n",
            " i'll never been this day \n",
            " i'm not this haiku\n",
            "--------------------\n",
            " i'm a haiku is \n",
            " i'm sorry it all to me \n",
            " i'm not cyany\n",
            "--------------------\n",
            " the sun shines brightly \n",
            " flame like a fuels in the \n",
            " a crowd of spring\n",
            "--------------------\n",
            " i am not okay \n",
            " our love for the same lacking \n",
            " i am not to you\n",
            "--------------------\n",
            " a bird of youth \n",
            " a view of bash of darkness \n",
            " a rumbling of spring\n",
            "--------------------\n",
            " annoying insect \n",
            " the trees is not evening \n",
            " i can feel like you\n",
            "--------------------\n",
            " i lay in my arms \n",
            " i am in the ocean of \n",
            " i miss you my love\n",
            "--------------------\n",
            " i'm a mad taken \n",
            " i'm in the campolation \n",
            " i'm not to be fine\n",
            "--------------------\n",
            " i'm ready to me \n",
            " i'm not to the time to you \n",
            " i need to die\n",
            "--------------------\n",
            " i'm not surely \n",
            " but i'm not just a small way \n",
            " i'm not for some\n",
            "--------------------\n",
            " i am alone \n",
            " i am in the mind is here \n",
            " i am coming\n",
            "--------------------\n",
            " in the dark night sky \n",
            " that's a new world is a ripe \n",
            " the eternal sleep\n",
            "--------------------\n",
            " the sun shines brightly \n",
            " as the pictures of the sky \n",
            " the buddha of the ground\n",
            "--------------------\n",
            " i am in the night \n",
            " i'm ready to be a job \n",
            " i'm not a beast\n",
            "--------------------\n",
            " i've got the office \n",
            " i've been here we all of \n",
            " the world is now\n",
            "--------------------\n",
            " a cycuctions \n",
            " the rot annam of the street \n",
            " a great murbork\n",
            "--------------------\n",
            " i am a smaller \n",
            " i'm notice to be the \n",
            " i'm not okay\n",
            "--------------------\n",
            " i'm a haiku haiku \n",
            " but a haiku i'm notice \n",
            " i'm not to go\n",
            "--------------------\n",
            " i'm ready to be \n",
            " i'm sorry to this haiku \n",
            " please be a pizza\n",
            "--------------------\n",
            " i'm not a haiku \n",
            " but i'm not even though \n",
            " i'm just go to\n",
            "--------------------\n",
            " a man of ants \n",
            " benibing internetime \n",
            " innocentity\n",
            "--------------------\n"
          ]
        }
      ],
      "source": [
        "#generate a bunch of haikus\n",
        "for _ in range(25):\n",
        "  new_haiku = sp.decode(generate_haiku(loaded_model, sp))\n",
        "  new_haiku = new_haiku.replace(\"<LINE1>\", \"\\n\").replace(\"<LINE2>\", \"\\n\").replace(\"<s>\", \"\").replace(\"</s>\", \"\")\n",
        "  print(new_haiku)\n",
        "  print(\"--------------------\")"
      ]
    },
    {
      "cell_type": "code",
      "execution_count": 24,
      "metadata": {
        "id": "Slnfoi-7LoDO"
      },
      "outputs": [],
      "source": []
    }
  ],
  "metadata": {
    "accelerator": "GPU",
    "colab": {
      "gpuType": "T4",
      "provenance": [],
      "authorship_tag": "ABX9TyOopqpS2qvVCaHJWHxcMgqs",
      "include_colab_link": true
    },
    "kernelspec": {
      "display_name": "Python 3",
      "name": "python3"
    },
    "language_info": {
      "name": "python"
    }
  },
  "nbformat": 4,
  "nbformat_minor": 0
}